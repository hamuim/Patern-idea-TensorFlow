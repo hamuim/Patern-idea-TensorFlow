{
  "cells": [
    {
      "cell_type": "markdown",
      "metadata": {
        "id": "view-in-github",
        "colab_type": "text"
      },
      "source": [
        "<a href=\"https://colab.research.google.com/github/hamuim/Patern-idea-TensorFlow/blob/main/HWSH.ipynb\" target=\"_parent\"><img src=\"https://colab.research.google.com/assets/colab-badge.svg\" alt=\"Open In Colab\"/></a>"
      ]
    },
    {
      "cell_type": "code",
      "execution_count": null,
      "metadata": {
        "colab": {
          "base_uri": "https://localhost:8080/"
        },
        "id": "sS5cUszpZXnf",
        "outputId": "a5235138-cd5a-4499-ef7f-8e7e0d40be5a"
      },
      "outputs": [
        {
          "name": "stdout",
          "output_type": "stream",
          "text": [
            "Cloning into 'Patern-idea-TensorFlow'...\n",
            "remote: Enumerating objects: 26, done.\u001b[K\n",
            "remote: Counting objects: 100% (26/26), done.\u001b[K\n",
            "remote: Compressing objects: 100% (25/25), done.\u001b[K\n",
            "remote: Total 26 (delta 5), reused 0 (delta 0), pack-reused 0\u001b[K\n",
            "Receiving objects: 100% (26/26), 13.41 KiB | 13.42 MiB/s, done.\n",
            "Resolving deltas: 100% (5/5), done.\n"
          ]
        }
      ],
      "source": [
        "!git clone https://github.com/hamuim/Patern-idea-TensorFlow"
      ]
    },
    {
      "cell_type": "code",
      "execution_count": null,
      "metadata": {
        "id": "Asz04HIkZg25"
      },
      "outputs": [],
      "source": [
        "import sys\n",
        "sys.path.append(\"Patern-idea-TensorFlow\")"
      ]
    },
    {
      "cell_type": "code",
      "execution_count": null,
      "metadata": {
        "id": "DvbwGDBUZlyO"
      },
      "outputs": [],
      "source": [
        "import tensorflow as tf\n",
        "tf.random.set_seed(42)"
      ]
    },
    {
      "cell_type": "code",
      "execution_count": null,
      "metadata": {
        "id": "USKp6HmAZr-8"
      },
      "outputs": [],
      "source": [
        "try:\n",
        "    tpu = None\n",
        "    tpu = tf.distribute.cluster_resolver.TPUClusterResolver()\n",
        "    tf.config.experimental_connect_to_cluster(tpu)\n",
        "    tf.tpu.experimental.initialize_tpu_system(tpu)\n",
        "    strategy = tf.distribute.experimental.TPUStrategy(tpu)\n",
        "except ValueError:\n",
        "    strategy = tf.distribute.MirroredStrategy()"
      ]
    },
    {
      "cell_type": "code",
      "execution_count": null,
      "metadata": {
        "id": "vt2oDwL4ZxBN"
      },
      "outputs": [],
      "source": [
        "import matplotlib.pyplot as plt\n",
        "import rn10\n",
        "import ut\n",
        "import time"
      ]
    },
    {
      "cell_type": "code",
      "execution_count": null,
      "metadata": {
        "colab": {
          "base_uri": "https://localhost:8080/"
        },
        "id": "4w52uPfIZ1b_",
        "outputId": "162dad73-26c8-45b8-a9ef-e8476d95a9cc"
      },
      "outputs": [
        {
          "name": "stdout",
          "output_type": "stream",
          "text": [
            "Downloading data from https://www.cs.toronto.edu/~kriz/cifar-10-python.tar.gz\n",
            "170498071/170498071 [==============================] - 4s 0us/step\n"
          ]
        }
      ],
      "source": [
        "(x_train, y_train), (x_test, y_test) = tf.keras.datasets.cifar10.load_data()"
      ]
    },
    {
      "cell_type": "code",
      "execution_count": null,
      "metadata": {
        "id": "NkB9OM4lZ4tl"
      },
      "outputs": [],
      "source": [
        "BATCH_SIZE = 128 * strategy.num_replicas_in_sync\n",
        "AUTO = tf.data.AUTOTUNE\n",
        "\n",
        "def scale(image, label):\n",
        "    image = tf.image.convert_image_dtype(image, tf.float32)\n",
        "    label = tf.cast(label, tf.int32)\n",
        "    return image, label\n",
        "\n",
        "def augment(image,label):\n",
        "    image = tf.image.resize_with_crop_or_pad(image, 40, 40)\n",
        "    image = tf.image.random_crop(image, size=[32, 32, 3])\n",
        "    image = tf.image.random_brightness(image, max_delta=0.5)\n",
        "    image = tf.clip_by_value(image, 0., 1.)\n",
        "\n",
        "    return image, label\n",
        "\n",
        "train_ds = tf.data.Dataset.from_tensor_slices((x_train, y_train))\n",
        "train_ds = (\n",
        "    train_ds\n",
        "    .shuffle(1024)\n",
        "    .map(scale, num_parallel_calls=AUTO)\n",
        "    .map(augment, num_parallel_calls=AUTO)\n",
        "    .batch(BATCH_SIZE)\n",
        "    .prefetch(AUTO)\n",
        ")\n",
        "\n",
        "test_ds = tf.data.Dataset.from_tensor_slices((x_test, y_test))\n",
        "test_ds = (\n",
        "    test_ds\n",
        "    .map(scale, num_parallel_calls=AUTO)\n",
        "    .batch(BATCH_SIZE)\n",
        "    .prefetch(AUTO)\n",
        ")"
      ]
    },
    {
      "cell_type": "code",
      "execution_count": null,
      "metadata": {
        "id": "af2ghlA1Foof"
      },
      "outputs": [],
      "source": [
        "import tensorflow as tf\n",
        "tf.config.run_functions_eagerly(False)\n",
        "\n",
        "class HWSHModel(tf.keras.Model):\n",
        "    def __init__(self, resnet_model, rho=0.055):\n",
        "        super(HWSHModel, self).__init__()\n",
        "        self.resnet_model = resnet_model\n",
        "        self.rho = rho\n",
        "\n",
        "    def train_step(self, data):\n",
        "        (images, labels) = data\n",
        "        e_ws = []\n",
        "        with tf.GradientTape() as tape:\n",
        "            predictions = self.resnet_model(images)\n",
        "            loss = self.compiled_loss(labels, predictions)\n",
        "        trainable_params = self.resnet_model.trainable_variables\n",
        "        gradients = tape.gradient(loss, trainable_params)\n",
        "        grad_norm = self._grad_norm(gradients)\n",
        "        scale = self.rho / (grad_norm + 1e-12)\n",
        "\n",
        "        for (grad, param) in zip(gradients, trainable_params):\n",
        "            e_w = grad * scale\n",
        "            param.assign_add(e_w)\n",
        "            e_ws.append(e_w)\n",
        "\n",
        "        with tf.GradientTape() as tape:\n",
        "            predictions = self.resnet_model(images)\n",
        "            loss = self.compiled_loss(labels, predictions)\n",
        "\n",
        "        sam_gradients = tape.gradient(loss, trainable_params)\n",
        "        for (param, e_w) in zip(trainable_params, e_ws):\n",
        "            param.assign_sub(e_w)\n",
        "\n",
        "        self.optimizer.apply_gradients(\n",
        "            zip(sam_gradients, trainable_params))\n",
        "\n",
        "        self.compiled_metrics.update_state(labels, predictions)\n",
        "        return {m.name: m.result() for m in self.metrics}\n",
        "\n",
        "    def test_step(self, data):\n",
        "        (images, labels) = data\n",
        "        predictions = self.resnet_model(images, training=False)\n",
        "        loss = self.compiled_loss(labels, predictions)\n",
        "        self.compiled_metrics.update_state(labels, predictions)\n",
        "        return {m.name: m.result() for m in self.metrics}\n",
        "\n",
        "    def _grad_norm(self, gradients):\n",
        "        norm = tf.norm(\n",
        "            tf.stack([\n",
        "                tf.norm(grad) for grad in gradients if grad is not None\n",
        "            ])\n",
        "        )\n",
        "        return norm"
      ]
    },
    {
      "cell_type": "code",
      "execution_count": null,
      "metadata": {
        "id": "cc0giVUSaNfs"
      },
      "outputs": [],
      "source": [
        "train_callbacks = [\n",
        "    tf.keras.callbacks.EarlyStopping(\n",
        "        monitor=\"val_loss\", patience=10,\n",
        "        restore_best_weights=True\n",
        "    ),\n",
        "    tf.keras.callbacks.ReduceLROnPlateau(\n",
        "        monitor=\"val_loss\", factor=0.5,\n",
        "        patience=3, verbose=1\n",
        "    )\n",
        "]"
      ]
    },
    {
      "cell_type": "code",
      "execution_count": null,
      "metadata": {
        "colab": {
          "background_save": true,
          "base_uri": "https://localhost:8080/"
        },
        "id": "wBHeMyrJ1Cp-",
        "outputId": "b63ae600-94a7-4807-837b-67d86695e3c7"
      },
      "outputs": [
        {
          "name": "stdout",
          "output_type": "stream",
          "text": [
            "Epoch 1/100\n",
            "391/391 [==============================] - 89s 159ms/step - loss: 2.2748 - accuracy: 0.1519 - val_loss: 1.8707 - val_accuracy: 0.2776 - lr: 0.0010\n",
            "Epoch 2/100\n",
            "391/391 [==============================] - 59s 151ms/step - loss: 1.8695 - accuracy: 0.2714 - val_loss: 1.6442 - val_accuracy: 0.3927 - lr: 0.0010\n",
            "Epoch 3/100\n",
            "391/391 [==============================] - 59s 152ms/step - loss: 1.6991 - accuracy: 0.3470 - val_loss: 1.4594 - val_accuracy: 0.4495 - lr: 0.0010\n",
            "Epoch 4/100\n",
            "391/391 [==============================] - 59s 152ms/step - loss: 1.5382 - accuracy: 0.4134 - val_loss: 1.3068 - val_accuracy: 0.5284 - lr: 0.0010\n",
            "Epoch 5/100\n",
            "391/391 [==============================] - 60s 152ms/step - loss: 1.4236 - accuracy: 0.4587 - val_loss: 1.2192 - val_accuracy: 0.5564 - lr: 0.0010\n",
            "Epoch 6/100\n",
            "391/391 [==============================] - 59s 152ms/step - loss: 1.3124 - accuracy: 0.5027 - val_loss: 1.0795 - val_accuracy: 0.6146 - lr: 0.0010\n",
            "Epoch 7/100\n",
            "391/391 [==============================] - 60s 153ms/step - loss: 1.2162 - accuracy: 0.5436 - val_loss: 1.0146 - val_accuracy: 0.6394 - lr: 0.0010\n",
            "Epoch 8/100\n",
            "391/391 [==============================] - 59s 152ms/step - loss: 1.1335 - accuracy: 0.5720 - val_loss: 0.9938 - val_accuracy: 0.6447 - lr: 0.0010\n",
            "Epoch 9/100\n",
            "391/391 [==============================] - 60s 154ms/step - loss: 1.0534 - accuracy: 0.6063 - val_loss: 0.9081 - val_accuracy: 0.6758 - lr: 0.0010\n",
            "Epoch 10/100\n",
            "391/391 [==============================] - 60s 153ms/step - loss: 0.9938 - accuracy: 0.6257 - val_loss: 0.8760 - val_accuracy: 0.6919 - lr: 0.0010\n",
            "Epoch 11/100\n",
            "391/391 [==============================] - 59s 151ms/step - loss: 0.9304 - accuracy: 0.6523 - val_loss: 0.8135 - val_accuracy: 0.7151 - lr: 0.0010\n",
            "Epoch 12/100\n",
            "391/391 [==============================] - 60s 154ms/step - loss: 0.8689 - accuracy: 0.6748 - val_loss: 0.7948 - val_accuracy: 0.7242 - lr: 0.0010\n",
            "Epoch 13/100\n",
            "391/391 [==============================] - 59s 152ms/step - loss: 0.8288 - accuracy: 0.6911 - val_loss: 0.7146 - val_accuracy: 0.7509 - lr: 0.0010\n",
            "Epoch 14/100\n",
            "391/391 [==============================] - 59s 152ms/step - loss: 0.7793 - accuracy: 0.7094 - val_loss: 0.7139 - val_accuracy: 0.7548 - lr: 0.0010\n",
            "Epoch 15/100\n",
            "391/391 [==============================] - 59s 151ms/step - loss: 0.7426 - accuracy: 0.7238 - val_loss: 0.6867 - val_accuracy: 0.7660 - lr: 0.0010\n",
            "Epoch 16/100\n",
            "391/391 [==============================] - 59s 151ms/step - loss: 0.7118 - accuracy: 0.7327 - val_loss: 0.6379 - val_accuracy: 0.7805 - lr: 0.0010\n",
            "Epoch 17/100\n",
            "391/391 [==============================] - 59s 152ms/step - loss: 0.6798 - accuracy: 0.7469 - val_loss: 0.6575 - val_accuracy: 0.7790 - lr: 0.0010\n",
            "Epoch 18/100\n",
            "391/391 [==============================] - 59s 151ms/step - loss: 0.6512 - accuracy: 0.7555 - val_loss: 0.5984 - val_accuracy: 0.7977 - lr: 0.0010\n",
            "Epoch 19/100\n",
            "391/391 [==============================] - 59s 152ms/step - loss: 0.6374 - accuracy: 0.7639 - val_loss: 0.6474 - val_accuracy: 0.7822 - lr: 0.0010\n",
            "Epoch 20/100\n",
            "391/391 [==============================] - 59s 151ms/step - loss: 0.6145 - accuracy: 0.7695 - val_loss: 0.5828 - val_accuracy: 0.8031 - lr: 0.0010\n",
            "Epoch 21/100\n",
            "391/391 [==============================] - 60s 153ms/step - loss: 0.5961 - accuracy: 0.7772 - val_loss: 0.5831 - val_accuracy: 0.8057 - lr: 0.0010\n",
            "Epoch 22/100\n",
            "391/391 [==============================] - 59s 151ms/step - loss: 0.5676 - accuracy: 0.7862 - val_loss: 0.5572 - val_accuracy: 0.8154 - lr: 0.0010\n",
            "Epoch 23/100\n",
            "391/391 [==============================] - 59s 151ms/step - loss: 0.5512 - accuracy: 0.7924 - val_loss: 0.5715 - val_accuracy: 0.8113 - lr: 0.0010\n",
            "Epoch 24/100\n",
            "391/391 [==============================] - 59s 151ms/step - loss: 0.5396 - accuracy: 0.7984 - val_loss: 0.5616 - val_accuracy: 0.8093 - lr: 0.0010\n",
            "Epoch 25/100\n",
            "391/391 [==============================] - ETA: 0s - loss: 0.5215 - accuracy: 0.8020\n",
            "Epoch 25: ReduceLROnPlateau reducing learning rate to 0.0005000000237487257.\n",
            "391/391 [==============================] - 59s 151ms/step - loss: 0.5215 - accuracy: 0.8020 - val_loss: 0.5940 - val_accuracy: 0.8078 - lr: 0.0010\n",
            "Epoch 26/100\n",
            "391/391 [==============================] - 59s 151ms/step - loss: 0.4536 - accuracy: 0.8279 - val_loss: 0.5199 - val_accuracy: 0.8304 - lr: 5.0000e-04\n",
            "Epoch 27/100\n",
            "391/391 [==============================] - 59s 151ms/step - loss: 0.4363 - accuracy: 0.8347 - val_loss: 0.5285 - val_accuracy: 0.8264 - lr: 5.0000e-04\n",
            "Epoch 28/100\n",
            "391/391 [==============================] - 60s 154ms/step - loss: 0.4240 - accuracy: 0.8371 - val_loss: 0.5153 - val_accuracy: 0.8370 - lr: 5.0000e-04\n",
            "Epoch 29/100\n",
            "391/391 [==============================] - 59s 152ms/step - loss: 0.4114 - accuracy: 0.8423 - val_loss: 0.5015 - val_accuracy: 0.8404 - lr: 5.0000e-04\n",
            "Epoch 30/100\n",
            "391/391 [==============================] - 59s 151ms/step - loss: 0.3980 - accuracy: 0.8466 - val_loss: 0.4897 - val_accuracy: 0.8432 - lr: 5.0000e-04\n",
            "Epoch 31/100\n",
            "391/391 [==============================] - 59s 151ms/step - loss: 0.3946 - accuracy: 0.8488 - val_loss: 0.5156 - val_accuracy: 0.8355 - lr: 5.0000e-04\n",
            "Epoch 32/100\n",
            "391/391 [==============================] - 59s 151ms/step - loss: 0.3803 - accuracy: 0.8530 - val_loss: 0.5115 - val_accuracy: 0.8397 - lr: 5.0000e-04\n",
            "Epoch 33/100\n",
            "391/391 [==============================] - ETA: 0s - loss: 0.3733 - accuracy: 0.8545\n",
            "Epoch 33: ReduceLROnPlateau reducing learning rate to 0.0002500000118743628.\n",
            "391/391 [==============================] - 59s 151ms/step - loss: 0.3733 - accuracy: 0.8545 - val_loss: 0.4986 - val_accuracy: 0.8397 - lr: 5.0000e-04\n",
            "Epoch 34/100\n",
            "391/391 [==============================] - 59s 151ms/step - loss: 0.3323 - accuracy: 0.8703 - val_loss: 0.4691 - val_accuracy: 0.8537 - lr: 2.5000e-04\n",
            "Epoch 35/100\n",
            "391/391 [==============================] - 59s 151ms/step - loss: 0.3210 - accuracy: 0.8748 - val_loss: 0.4691 - val_accuracy: 0.8530 - lr: 2.5000e-04\n",
            "Epoch 36/100\n",
            "391/391 [==============================] - 59s 152ms/step - loss: 0.3143 - accuracy: 0.8770 - val_loss: 0.4791 - val_accuracy: 0.8514 - lr: 2.5000e-04\n",
            "Epoch 37/100\n",
            "391/391 [==============================] - ETA: 0s - loss: 0.3096 - accuracy: 0.8775\n",
            "Epoch 37: ReduceLROnPlateau reducing learning rate to 0.0001250000059371814.\n",
            "391/391 [==============================] - 59s 151ms/step - loss: 0.3096 - accuracy: 0.8775 - val_loss: 0.4873 - val_accuracy: 0.8503 - lr: 2.5000e-04\n",
            "Epoch 38/100\n",
            "391/391 [==============================] - 59s 151ms/step - loss: 0.2885 - accuracy: 0.8843 - val_loss: 0.4796 - val_accuracy: 0.8540 - lr: 1.2500e-04\n",
            "Epoch 39/100\n",
            "391/391 [==============================] - 59s 151ms/step - loss: 0.2833 - accuracy: 0.8873 - val_loss: 0.4777 - val_accuracy: 0.8553 - lr: 1.2500e-04\n",
            "Epoch 40/100\n",
            "391/391 [==============================] - ETA: 0s - loss: 0.2841 - accuracy: 0.8871\n",
            "Epoch 40: ReduceLROnPlateau reducing learning rate to 6.25000029685907e-05.\n",
            "391/391 [==============================] - 59s 151ms/step - loss: 0.2841 - accuracy: 0.8871 - val_loss: 0.4701 - val_accuracy: 0.8584 - lr: 1.2500e-04\n",
            "Epoch 41/100\n",
            "391/391 [==============================] - 59s 151ms/step - loss: 0.2659 - accuracy: 0.8930 - val_loss: 0.4776 - val_accuracy: 0.8576 - lr: 6.2500e-05\n",
            "Epoch 42/100\n",
            "391/391 [==============================] - 59s 151ms/step - loss: 0.2654 - accuracy: 0.8937 - val_loss: 0.4739 - val_accuracy: 0.8584 - lr: 6.2500e-05\n",
            "Epoch 43/100\n",
            "391/391 [==============================] - 59s 152ms/step - loss: 0.2637 - accuracy: 0.8950 - val_loss: 0.4680 - val_accuracy: 0.8587 - lr: 6.2500e-05\n",
            "Epoch 44/100\n",
            "391/391 [==============================] - 59s 152ms/step - loss: 0.2640 - accuracy: 0.8941 - val_loss: 0.4749 - val_accuracy: 0.8583 - lr: 6.2500e-05\n",
            "Epoch 45/100\n",
            "391/391 [==============================] - 60s 153ms/step - loss: 0.2616 - accuracy: 0.8970 - val_loss: 0.4769 - val_accuracy: 0.8587 - lr: 6.2500e-05\n",
            "Epoch 46/100\n",
            "391/391 [==============================] - ETA: 0s - loss: 0.2596 - accuracy: 0.8953\n",
            "Epoch 46: ReduceLROnPlateau reducing learning rate to 3.125000148429535e-05.\n",
            "391/391 [==============================] - 60s 153ms/step - loss: 0.2596 - accuracy: 0.8953 - val_loss: 0.4732 - val_accuracy: 0.8579 - lr: 6.2500e-05\n",
            "Epoch 47/100\n",
            "391/391 [==============================] - 60s 153ms/step - loss: 0.2566 - accuracy: 0.8971 - val_loss: 0.4693 - val_accuracy: 0.8579 - lr: 3.1250e-05\n",
            "Epoch 48/100\n",
            "391/391 [==============================] - 60s 153ms/step - loss: 0.2536 - accuracy: 0.8977 - val_loss: 0.4749 - val_accuracy: 0.8588 - lr: 3.1250e-05\n",
            "Epoch 49/100\n",
            "391/391 [==============================] - ETA: 0s - loss: 0.2516 - accuracy: 0.8997\n",
            "Epoch 49: ReduceLROnPlateau reducing learning rate to 1.5625000742147677e-05.\n",
            "391/391 [==============================] - 59s 152ms/step - loss: 0.2516 - accuracy: 0.8997 - val_loss: 0.4776 - val_accuracy: 0.8559 - lr: 3.1250e-05\n",
            "Epoch 50/100\n",
            "391/391 [==============================] - 59s 151ms/step - loss: 0.2454 - accuracy: 0.9014 - val_loss: 0.4756 - val_accuracy: 0.8586 - lr: 1.5625e-05\n",
            "Epoch 51/100\n",
            "391/391 [==============================] - 59s 152ms/step - loss: 0.2462 - accuracy: 0.9019 - val_loss: 0.4746 - val_accuracy: 0.8577 - lr: 1.5625e-05\n",
            "Epoch 52/100\n",
            "391/391 [==============================] - ETA: 0s - loss: 0.2454 - accuracy: 0.9016\n",
            "Epoch 52: ReduceLROnPlateau reducing learning rate to 7.812500371073838e-06.\n",
            "391/391 [==============================] - 59s 151ms/step - loss: 0.2454 - accuracy: 0.9016 - val_loss: 0.4742 - val_accuracy: 0.8591 - lr: 1.5625e-05\n",
            "Epoch 53/100\n",
            "391/391 [==============================] - 59s 151ms/step - loss: 0.2458 - accuracy: 0.9006 - val_loss: 0.4742 - val_accuracy: 0.8586 - lr: 7.8125e-06\n"
          ]
        }
      ],
      "source": [
        "with strategy.scope():\n",
        "    model = HWSHModel(ut.get_training_model())\n",
        "\n",
        "model.compile(\n",
        "    optimizer=\"adam\", loss=\"sparse_categorical_crossentropy\", metrics=[\"accuracy\"]\n",
        ")\n",
        "\n",
        "start = time.time()\n",
        "history = model.fit(train_ds,\n",
        "                   validation_data=test_ds,\n",
        "                   callbacks=train_callbacks,\n",
        "                   epochs=100)"
      ]
    },
    {
      "cell_type": "code",
      "execution_count": null,
      "metadata": {
        "colab": {
          "background_save": true
        },
        "id": "NMT-FUYuTdSy",
        "outputId": "7127bb5e-0391-4ae5-853e-a5b79c8f68da"
      },
      "outputs": [
        {
          "data": {
            "image/png": "[encoded data removed]",
            "text/plain": [
              "<Figure size 640x480 with 1 Axes>"
            ]
          },
          "metadata": {},
          "output_type": "display_data"
        }
      ],
      "source": [
        "ut.plot_history(history)"
      ]
    },
    {
      "cell_type": "code",
      "execution_count": null,
      "metadata": {
        "colab": {
          "background_save": true,
          "base_uri": "https://localhost:8080/"
        },
        "id": "Pol4QnciSm0P",
        "outputId": "629bc101-e015-42d5-c565-ad30debcc467"
      },
      "outputs": [
        {
          "name": "stdout",
          "output_type": "stream",
          "text": [
            "Epoch 1/100\n",
            "391/391 [==============================] - 48s 82ms/step - loss: 1.6485 - accuracy: 0.3926 - val_loss: 1.7177 - val_accuracy: 0.4104 - lr: 0.0010\n",
            "Epoch 2/100\n",
            "391/391 [==============================] - 32s 81ms/step - loss: 1.2380 - accuracy: 0.5559 - val_loss: 1.2553 - val_accuracy: 0.5674 - lr: 0.0010\n",
            "Epoch 3/100\n",
            "391/391 [==============================] - 31s 79ms/step - loss: 1.0310 - accuracy: 0.6331 - val_loss: 1.0105 - val_accuracy: 0.6524 - lr: 0.0010\n",
            "Epoch 4/100\n",
            "391/391 [==============================] - 31s 80ms/step - loss: 0.8801 - accuracy: 0.6951 - val_loss: 0.9609 - val_accuracy: 0.6771 - lr: 0.0010\n",
            "Epoch 5/100\n",
            "391/391 [==============================] - 32s 81ms/step - loss: 0.7771 - accuracy: 0.7294 - val_loss: 0.7521 - val_accuracy: 0.7422 - lr: 0.0010\n",
            "Epoch 6/100\n",
            "391/391 [==============================] - 31s 79ms/step - loss: 0.7086 - accuracy: 0.7546 - val_loss: 0.9790 - val_accuracy: 0.6925 - lr: 0.0010\n",
            "Epoch 7/100\n",
            "391/391 [==============================] - 31s 79ms/step - loss: 0.6517 - accuracy: 0.7726 - val_loss: 0.6958 - val_accuracy: 0.7670 - lr: 0.0010\n",
            "Epoch 8/100\n",
            "391/391 [==============================] - 31s 79ms/step - loss: 0.6080 - accuracy: 0.7895 - val_loss: 0.9147 - val_accuracy: 0.7421 - lr: 0.0010\n",
            "Epoch 9/100\n",
            "391/391 [==============================] - 31s 78ms/step - loss: 0.5684 - accuracy: 0.8032 - val_loss: 0.8463 - val_accuracy: 0.7386 - lr: 0.0010\n",
            "Epoch 10/100\n",
            "390/391 [============================>.] - ETA: 0s - loss: 0.5359 - accuracy: 0.8143\n",
            "Epoch 10: ReduceLROnPlateau reducing learning rate to 0.0005000000237487257.\n",
            "391/391 [==============================] - 31s 79ms/step - loss: 0.5360 - accuracy: 0.8143 - val_loss: 0.8856 - val_accuracy: 0.7409 - lr: 0.0010\n",
            "Epoch 11/100\n",
            "391/391 [==============================] - 31s 80ms/step - loss: 0.4535 - accuracy: 0.8427 - val_loss: 0.6413 - val_accuracy: 0.7916 - lr: 5.0000e-04\n",
            "Epoch 12/100\n",
            "391/391 [==============================] - 31s 79ms/step - loss: 0.4275 - accuracy: 0.8522 - val_loss: 0.5634 - val_accuracy: 0.8178 - lr: 5.0000e-04\n",
            "Epoch 13/100\n",
            "391/391 [==============================] - 31s 79ms/step - loss: 0.4111 - accuracy: 0.8574 - val_loss: 0.5904 - val_accuracy: 0.8124 - lr: 5.0000e-04\n",
            "Epoch 14/100\n",
            "  1/391 [..............................] - ETA: 37s - loss: 0.3077 - accuracy: 0.8984"
          ]
        },
        {
          "ename": "KeyboardInterrupt",
          "evalue": "ignored",
          "output_type": "error",
          "traceback": [
            "\u001b[0;31m---------------------------------------------------------------------------\u001b[0m",
            "\u001b[0;31mKeyboardInterrupt\u001b[0m                         Traceback (most recent call last)",
            "\u001b[0;32m<ipython-input-13-00330b503a4b>\u001b[0m in \u001b[0;36m<cell line: 9>\u001b[0;34m()\u001b[0m\n\u001b[1;32m      7\u001b[0m \u001b[0;34m\u001b[0m\u001b[0m\n\u001b[1;32m      8\u001b[0m \u001b[0mstart\u001b[0m \u001b[0;34m=\u001b[0m \u001b[0mtime\u001b[0m\u001b[0;34m.\u001b[0m\u001b[0mtime\u001b[0m\u001b[0;34m(\u001b[0m\u001b[0;34m)\u001b[0m\u001b[0;34m\u001b[0m\u001b[0;34m\u001b[0m\u001b[0m\n\u001b[0;32m----> 9\u001b[0;31m history = model.fit(train_ds,\n\u001b[0m\u001b[1;32m     10\u001b[0m                    \u001b[0mvalidation_data\u001b[0m\u001b[0;34m=\u001b[0m\u001b[0mtest_ds\u001b[0m\u001b[0;34m,\u001b[0m\u001b[0;34m\u001b[0m\u001b[0;34m\u001b[0m\u001b[0m\n\u001b[1;32m     11\u001b[0m                    \u001b[0mcallbacks\u001b[0m\u001b[0;34m=\u001b[0m\u001b[0mtrain_callbacks\u001b[0m\u001b[0;34m,\u001b[0m\u001b[0;34m\u001b[0m\u001b[0;34m\u001b[0m\u001b[0m\n",
            "\u001b[0;32m/usr/local/lib/python3.10/dist-packages/keras/src/utils/traceback_utils.py\u001b[0m in \u001b[0;36merror_handler\u001b[0;34m(*args, **kwargs)\u001b[0m\n\u001b[1;32m     63\u001b[0m         \u001b[0mfiltered_tb\u001b[0m \u001b[0;34m=\u001b[0m \u001b[0;32mNone\u001b[0m\u001b[0;34m\u001b[0m\u001b[0;34m\u001b[0m\u001b[0m\n\u001b[1;32m     64\u001b[0m         \u001b[0;32mtry\u001b[0m\u001b[0;34m:\u001b[0m\u001b[0;34m\u001b[0m\u001b[0;34m\u001b[0m\u001b[0m\n\u001b[0;32m---> 65\u001b[0;31m             \u001b[0;32mreturn\u001b[0m \u001b[0mfn\u001b[0m\u001b[0;34m(\u001b[0m\u001b[0;34m*\u001b[0m\u001b[0margs\u001b[0m\u001b[0;34m,\u001b[0m \u001b[0;34m**\u001b[0m\u001b[0mkwargs\u001b[0m\u001b[0;34m)\u001b[0m\u001b[0;34m\u001b[0m\u001b[0;34m\u001b[0m\u001b[0m\n\u001b[0m\u001b[1;32m     66\u001b[0m         \u001b[0;32mexcept\u001b[0m \u001b[0mException\u001b[0m \u001b[0;32mas\u001b[0m \u001b[0me\u001b[0m\u001b[0;34m:\u001b[0m\u001b[0;34m\u001b[0m\u001b[0;34m\u001b[0m\u001b[0m\n\u001b[1;32m     67\u001b[0m             \u001b[0mfiltered_tb\u001b[0m \u001b[0;34m=\u001b[0m \u001b[0m_process_traceback_frames\u001b[0m\u001b[0;34m(\u001b[0m\u001b[0me\u001b[0m\u001b[0;34m.\u001b[0m\u001b[0m__traceback__\u001b[0m\u001b[0;34m)\u001b[0m\u001b[0;34m\u001b[0m\u001b[0;34m\u001b[0m\u001b[0m\n",
            "\u001b[0;32m/usr/local/lib/python3.10/dist-packages/keras/src/engine/training.py\u001b[0m in \u001b[0;36mfit\u001b[0;34m(self, x, y, batch_size, epochs, verbose, callbacks, validation_split, validation_data, shuffle, class_weight, sample_weight, initial_epoch, steps_per_epoch, validation_steps, validation_batch_size, validation_freq, max_queue_size, workers, use_multiprocessing)\u001b[0m\n\u001b[1;32m   1787\u001b[0m                             \u001b[0mlogs\u001b[0m \u001b[0;34m=\u001b[0m \u001b[0mtmp_logs\u001b[0m\u001b[0;34m\u001b[0m\u001b[0;34m\u001b[0m\u001b[0m\n\u001b[1;32m   1788\u001b[0m                             \u001b[0mend_step\u001b[0m \u001b[0;34m=\u001b[0m \u001b[0mstep\u001b[0m \u001b[0;34m+\u001b[0m \u001b[0mdata_handler\u001b[0m\u001b[0;34m.\u001b[0m\u001b[0mstep_increment\u001b[0m\u001b[0;34m\u001b[0m\u001b[0;34m\u001b[0m\u001b[0m\n\u001b[0;32m-> 1789\u001b[0;31m                             \u001b[0mcallbacks\u001b[0m\u001b[0;34m.\u001b[0m\u001b[0mon_train_batch_end\u001b[0m\u001b[0;34m(\u001b[0m\u001b[0mend_step\u001b[0m\u001b[0;34m,\u001b[0m \u001b[0mlogs\u001b[0m\u001b[0;34m)\u001b[0m\u001b[0;34m\u001b[0m\u001b[0;34m\u001b[0m\u001b[0m\n\u001b[0m\u001b[1;32m   1790\u001b[0m                             \u001b[0;32mif\u001b[0m \u001b[0mself\u001b[0m\u001b[0;34m.\u001b[0m\u001b[0mstop_training\u001b[0m\u001b[0;34m:\u001b[0m\u001b[0;34m\u001b[0m\u001b[0;34m\u001b[0m\u001b[0m\n\u001b[1;32m   1791\u001b[0m                                 \u001b[0;32mbreak\u001b[0m\u001b[0;34m\u001b[0m\u001b[0;34m\u001b[0m\u001b[0m\n",
            "\u001b[0;32m/usr/local/lib/python3.10/dist-packages/keras/src/callbacks.py\u001b[0m in \u001b[0;36mon_train_batch_end\u001b[0;34m(self, batch, logs)\u001b[0m\n\u001b[1;32m    473\u001b[0m         \"\"\"\n\u001b[1;32m    474\u001b[0m         \u001b[0;32mif\u001b[0m \u001b[0mself\u001b[0m\u001b[0;34m.\u001b[0m\u001b[0m_should_call_train_batch_hooks\u001b[0m\u001b[0;34m:\u001b[0m\u001b[0;34m\u001b[0m\u001b[0;34m\u001b[0m\u001b[0m\n\u001b[0;32m--> 475\u001b[0;31m             \u001b[0mself\u001b[0m\u001b[0;34m.\u001b[0m\u001b[0m_call_batch_hook\u001b[0m\u001b[0;34m(\u001b[0m\u001b[0mModeKeys\u001b[0m\u001b[0;34m.\u001b[0m\u001b[0mTRAIN\u001b[0m\u001b[0;34m,\u001b[0m \u001b[0;34m\"end\"\u001b[0m\u001b[0;34m,\u001b[0m \u001b[0mbatch\u001b[0m\u001b[0;34m,\u001b[0m \u001b[0mlogs\u001b[0m\u001b[0;34m=\u001b[0m\u001b[0mlogs\u001b[0m\u001b[0;34m)\u001b[0m\u001b[0;34m\u001b[0m\u001b[0;34m\u001b[0m\u001b[0m\n\u001b[0m\u001b[1;32m    476\u001b[0m \u001b[0;34m\u001b[0m\u001b[0m\n\u001b[1;32m    477\u001b[0m     \u001b[0;32mdef\u001b[0m \u001b[0mon_test_batch_begin\u001b[0m\u001b[0;34m(\u001b[0m\u001b[0mself\u001b[0m\u001b[0;34m,\u001b[0m \u001b[0mbatch\u001b[0m\u001b[0;34m,\u001b[0m \u001b[0mlogs\u001b[0m\u001b[0;34m=\u001b[0m\u001b[0;32mNone\u001b[0m\u001b[0;34m)\u001b[0m\u001b[0;34m:\u001b[0m\u001b[0;34m\u001b[0m\u001b[0;34m\u001b[0m\u001b[0m\n",
            "\u001b[0;32m/usr/local/lib/python3.10/dist-packages/keras/src/callbacks.py\u001b[0m in \u001b[0;36m_call_batch_hook\u001b[0;34m(self, mode, hook, batch, logs)\u001b[0m\n\u001b[1;32m    320\u001b[0m             \u001b[0mself\u001b[0m\u001b[0;34m.\u001b[0m\u001b[0m_call_batch_begin_hook\u001b[0m\u001b[0;34m(\u001b[0m\u001b[0mmode\u001b[0m\u001b[0;34m,\u001b[0m \u001b[0mbatch\u001b[0m\u001b[0;34m,\u001b[0m \u001b[0mlogs\u001b[0m\u001b[0;34m)\u001b[0m\u001b[0;34m\u001b[0m\u001b[0;34m\u001b[0m\u001b[0m\n\u001b[1;32m    321\u001b[0m         \u001b[0;32melif\u001b[0m \u001b[0mhook\u001b[0m \u001b[0;34m==\u001b[0m \u001b[0;34m\"end\"\u001b[0m\u001b[0;34m:\u001b[0m\u001b[0;34m\u001b[0m\u001b[0;34m\u001b[0m\u001b[0m\n\u001b[0;32m--> 322\u001b[0;31m             \u001b[0mself\u001b[0m\u001b[0;34m.\u001b[0m\u001b[0m_call_batch_end_hook\u001b[0m\u001b[0;34m(\u001b[0m\u001b[0mmode\u001b[0m\u001b[0;34m,\u001b[0m \u001b[0mbatch\u001b[0m\u001b[0;34m,\u001b[0m \u001b[0mlogs\u001b[0m\u001b[0;34m)\u001b[0m\u001b[0;34m\u001b[0m\u001b[0;34m\u001b[0m\u001b[0m\n\u001b[0m\u001b[1;32m    323\u001b[0m         \u001b[0;32melse\u001b[0m\u001b[0;34m:\u001b[0m\u001b[0;34m\u001b[0m\u001b[0;34m\u001b[0m\u001b[0m\n\u001b[1;32m    324\u001b[0m             raise ValueError(\n",
            "\u001b[0;32m/usr/local/lib/python3.10/dist-packages/keras/src/callbacks.py\u001b[0m in \u001b[0;36m_call_batch_end_hook\u001b[0;34m(self, mode, batch, logs)\u001b[0m\n\u001b[1;32m    343\u001b[0m             \u001b[0mself\u001b[0m\u001b[0;34m.\u001b[0m\u001b[0m_batch_times\u001b[0m\u001b[0;34m.\u001b[0m\u001b[0mappend\u001b[0m\u001b[0;34m(\u001b[0m\u001b[0mbatch_time\u001b[0m\u001b[0;34m)\u001b[0m\u001b[0;34m\u001b[0m\u001b[0;34m\u001b[0m\u001b[0m\n\u001b[1;32m    344\u001b[0m \u001b[0;34m\u001b[0m\u001b[0m\n\u001b[0;32m--> 345\u001b[0;31m         \u001b[0mself\u001b[0m\u001b[0;34m.\u001b[0m\u001b[0m_call_batch_hook_helper\u001b[0m\u001b[0;34m(\u001b[0m\u001b[0mhook_name\u001b[0m\u001b[0;34m,\u001b[0m \u001b[0mbatch\u001b[0m\u001b[0;34m,\u001b[0m \u001b[0mlogs\u001b[0m\u001b[0;34m)\u001b[0m\u001b[0;34m\u001b[0m\u001b[0;34m\u001b[0m\u001b[0m\n\u001b[0m\u001b[1;32m    346\u001b[0m \u001b[0;34m\u001b[0m\u001b[0m\n\u001b[1;32m    347\u001b[0m         \u001b[0;32mif\u001b[0m \u001b[0mlen\u001b[0m\u001b[0;34m(\u001b[0m\u001b[0mself\u001b[0m\u001b[0;34m.\u001b[0m\u001b[0m_batch_times\u001b[0m\u001b[0;34m)\u001b[0m \u001b[0;34m>=\u001b[0m \u001b[0mself\u001b[0m\u001b[0;34m.\u001b[0m\u001b[0m_num_batches_for_timing_check\u001b[0m\u001b[0;34m:\u001b[0m\u001b[0;34m\u001b[0m\u001b[0;34m\u001b[0m\u001b[0m\n",
            "\u001b[0;32m/usr/local/lib/python3.10/dist-packages/keras/src/callbacks.py\u001b[0m in \u001b[0;36m_call_batch_hook_helper\u001b[0;34m(self, hook_name, batch, logs)\u001b[0m\n\u001b[1;32m    391\u001b[0m         \u001b[0;32mfor\u001b[0m \u001b[0mcallback\u001b[0m \u001b[0;32min\u001b[0m \u001b[0mself\u001b[0m\u001b[0;34m.\u001b[0m\u001b[0mcallbacks\u001b[0m\u001b[0;34m:\u001b[0m\u001b[0;34m\u001b[0m\u001b[0;34m\u001b[0m\u001b[0m\n\u001b[1;32m    392\u001b[0m             \u001b[0mhook\u001b[0m \u001b[0;34m=\u001b[0m \u001b[0mgetattr\u001b[0m\u001b[0;34m(\u001b[0m\u001b[0mcallback\u001b[0m\u001b[0;34m,\u001b[0m \u001b[0mhook_name\u001b[0m\u001b[0;34m)\u001b[0m\u001b[0;34m\u001b[0m\u001b[0;34m\u001b[0m\u001b[0m\n\u001b[0;32m--> 393\u001b[0;31m             \u001b[0mhook\u001b[0m\u001b[0;34m(\u001b[0m\u001b[0mbatch\u001b[0m\u001b[0;34m,\u001b[0m \u001b[0mlogs\u001b[0m\u001b[0;34m)\u001b[0m\u001b[0;34m\u001b[0m\u001b[0;34m\u001b[0m\u001b[0m\n\u001b[0m\u001b[1;32m    394\u001b[0m \u001b[0;34m\u001b[0m\u001b[0m\n\u001b[1;32m    395\u001b[0m         \u001b[0;32mif\u001b[0m \u001b[0mself\u001b[0m\u001b[0;34m.\u001b[0m\u001b[0m_check_timing\u001b[0m\u001b[0;34m:\u001b[0m\u001b[0;34m\u001b[0m\u001b[0;34m\u001b[0m\u001b[0m\n",
            "\u001b[0;32m/usr/local/lib/python3.10/dist-packages/keras/src/callbacks.py\u001b[0m in \u001b[0;36mon_train_batch_end\u001b[0;34m(self, batch, logs)\u001b[0m\n\u001b[1;32m   1091\u001b[0m \u001b[0;34m\u001b[0m\u001b[0m\n\u001b[1;32m   1092\u001b[0m     \u001b[0;32mdef\u001b[0m \u001b[0mon_train_batch_end\u001b[0m\u001b[0;34m(\u001b[0m\u001b[0mself\u001b[0m\u001b[0;34m,\u001b[0m \u001b[0mbatch\u001b[0m\u001b[0;34m,\u001b[0m \u001b[0mlogs\u001b[0m\u001b[0;34m=\u001b[0m\u001b[0;32mNone\u001b[0m\u001b[0;34m)\u001b[0m\u001b[0;34m:\u001b[0m\u001b[0;34m\u001b[0m\u001b[0;34m\u001b[0m\u001b[0m\n\u001b[0;32m-> 1093\u001b[0;31m         \u001b[0mself\u001b[0m\u001b[0;34m.\u001b[0m\u001b[0m_batch_update_progbar\u001b[0m\u001b[0;34m(\u001b[0m\u001b[0mbatch\u001b[0m\u001b[0;34m,\u001b[0m \u001b[0mlogs\u001b[0m\u001b[0;34m)\u001b[0m\u001b[0;34m\u001b[0m\u001b[0;34m\u001b[0m\u001b[0m\n\u001b[0m\u001b[1;32m   1094\u001b[0m \u001b[0;34m\u001b[0m\u001b[0m\n\u001b[1;32m   1095\u001b[0m     \u001b[0;32mdef\u001b[0m \u001b[0mon_test_batch_end\u001b[0m\u001b[0;34m(\u001b[0m\u001b[0mself\u001b[0m\u001b[0;34m,\u001b[0m \u001b[0mbatch\u001b[0m\u001b[0;34m,\u001b[0m \u001b[0mlogs\u001b[0m\u001b[0;34m=\u001b[0m\u001b[0;32mNone\u001b[0m\u001b[0;34m)\u001b[0m\u001b[0;34m:\u001b[0m\u001b[0;34m\u001b[0m\u001b[0;34m\u001b[0m\u001b[0m\n",
            "\u001b[0;32m/usr/local/lib/python3.10/dist-packages/keras/src/callbacks.py\u001b[0m in \u001b[0;36m_batch_update_progbar\u001b[0;34m(self, batch, logs)\u001b[0m\n\u001b[1;32m   1168\u001b[0m             \u001b[0;31m# Only block async when verbose = 1.\u001b[0m\u001b[0;34m\u001b[0m\u001b[0;34m\u001b[0m\u001b[0m\n\u001b[1;32m   1169\u001b[0m             \u001b[0mlogs\u001b[0m \u001b[0;34m=\u001b[0m \u001b[0mtf_utils\u001b[0m\u001b[0;34m.\u001b[0m\u001b[0msync_to_numpy_or_python_type\u001b[0m\u001b[0;34m(\u001b[0m\u001b[0mlogs\u001b[0m\u001b[0;34m)\u001b[0m\u001b[0;34m\u001b[0m\u001b[0;34m\u001b[0m\u001b[0m\n\u001b[0;32m-> 1170\u001b[0;31m             \u001b[0mself\u001b[0m\u001b[0;34m.\u001b[0m\u001b[0mprogbar\u001b[0m\u001b[0;34m.\u001b[0m\u001b[0mupdate\u001b[0m\u001b[0;34m(\u001b[0m\u001b[0mself\u001b[0m\u001b[0;34m.\u001b[0m\u001b[0mseen\u001b[0m\u001b[0;34m,\u001b[0m \u001b[0mlist\u001b[0m\u001b[0;34m(\u001b[0m\u001b[0mlogs\u001b[0m\u001b[0;34m.\u001b[0m\u001b[0mitems\u001b[0m\u001b[0;34m(\u001b[0m\u001b[0;34m)\u001b[0m\u001b[0;34m)\u001b[0m\u001b[0;34m,\u001b[0m \u001b[0mfinalize\u001b[0m\u001b[0;34m=\u001b[0m\u001b[0;32mFalse\u001b[0m\u001b[0;34m)\u001b[0m\u001b[0;34m\u001b[0m\u001b[0;34m\u001b[0m\u001b[0m\n\u001b[0m\u001b[1;32m   1171\u001b[0m \u001b[0;34m\u001b[0m\u001b[0m\n\u001b[1;32m   1172\u001b[0m     \u001b[0;32mdef\u001b[0m \u001b[0m_finalize_progbar\u001b[0m\u001b[0;34m(\u001b[0m\u001b[0mself\u001b[0m\u001b[0;34m,\u001b[0m \u001b[0mlogs\u001b[0m\u001b[0;34m,\u001b[0m \u001b[0mcounter\u001b[0m\u001b[0;34m)\u001b[0m\u001b[0;34m:\u001b[0m\u001b[0;34m\u001b[0m\u001b[0;34m\u001b[0m\u001b[0m\n",
            "\u001b[0;32m/usr/local/lib/python3.10/dist-packages/keras/src/utils/generic_utils.py\u001b[0m in \u001b[0;36mupdate\u001b[0;34m(self, current, values, finalize)\u001b[0m\n\u001b[1;32m    294\u001b[0m \u001b[0;34m\u001b[0m\u001b[0m\n\u001b[1;32m    295\u001b[0m             \u001b[0mmessage\u001b[0m \u001b[0;34m+=\u001b[0m \u001b[0minfo\u001b[0m\u001b[0;34m\u001b[0m\u001b[0;34m\u001b[0m\u001b[0m\n\u001b[0;32m--> 296\u001b[0;31m             \u001b[0mio_utils\u001b[0m\u001b[0;34m.\u001b[0m\u001b[0mprint_msg\u001b[0m\u001b[0;34m(\u001b[0m\u001b[0mmessage\u001b[0m\u001b[0;34m,\u001b[0m \u001b[0mline_break\u001b[0m\u001b[0;34m=\u001b[0m\u001b[0;32mFalse\u001b[0m\u001b[0;34m)\u001b[0m\u001b[0;34m\u001b[0m\u001b[0;34m\u001b[0m\u001b[0m\n\u001b[0m\u001b[1;32m    297\u001b[0m             \u001b[0mmessage\u001b[0m \u001b[0;34m=\u001b[0m \u001b[0;34m\"\"\u001b[0m\u001b[0;34m\u001b[0m\u001b[0;34m\u001b[0m\u001b[0m\n\u001b[1;32m    298\u001b[0m \u001b[0;34m\u001b[0m\u001b[0m\n",
            "\u001b[0;32m/usr/local/lib/python3.10/dist-packages/keras/src/utils/io_utils.py\u001b[0m in \u001b[0;36mprint_msg\u001b[0;34m(message, line_break)\u001b[0m\n\u001b[1;32m     78\u001b[0m             \u001b[0msys\u001b[0m\u001b[0;34m.\u001b[0m\u001b[0mstdout\u001b[0m\u001b[0;34m.\u001b[0m\u001b[0mwrite\u001b[0m\u001b[0;34m(\u001b[0m\u001b[0mmessage\u001b[0m \u001b[0;34m+\u001b[0m \u001b[0;34m\"\\n\"\u001b[0m\u001b[0;34m)\u001b[0m\u001b[0;34m\u001b[0m\u001b[0;34m\u001b[0m\u001b[0m\n\u001b[1;32m     79\u001b[0m         \u001b[0;32melse\u001b[0m\u001b[0;34m:\u001b[0m\u001b[0;34m\u001b[0m\u001b[0;34m\u001b[0m\u001b[0m\n\u001b[0;32m---> 80\u001b[0;31m             \u001b[0msys\u001b[0m\u001b[0;34m.\u001b[0m\u001b[0mstdout\u001b[0m\u001b[0;34m.\u001b[0m\u001b[0mwrite\u001b[0m\u001b[0;34m(\u001b[0m\u001b[0mmessage\u001b[0m\u001b[0;34m)\u001b[0m\u001b[0;34m\u001b[0m\u001b[0;34m\u001b[0m\u001b[0m\n\u001b[0m\u001b[1;32m     81\u001b[0m         \u001b[0msys\u001b[0m\u001b[0;34m.\u001b[0m\u001b[0mstdout\u001b[0m\u001b[0;34m.\u001b[0m\u001b[0mflush\u001b[0m\u001b[0;34m(\u001b[0m\u001b[0;34m)\u001b[0m\u001b[0;34m\u001b[0m\u001b[0;34m\u001b[0m\u001b[0m\n\u001b[1;32m     82\u001b[0m     \u001b[0;32melse\u001b[0m\u001b[0;34m:\u001b[0m\u001b[0;34m\u001b[0m\u001b[0;34m\u001b[0m\u001b[0m\n",
            "\u001b[0;32m/usr/local/lib/python3.10/dist-packages/ipykernel/iostream.py\u001b[0m in \u001b[0;36mwrite\u001b[0;34m(self, string)\u001b[0m\n\u001b[1;32m    400\u001b[0m             \u001b[0mis_child\u001b[0m \u001b[0;34m=\u001b[0m \u001b[0;34m(\u001b[0m\u001b[0;32mnot\u001b[0m \u001b[0mself\u001b[0m\u001b[0;34m.\u001b[0m\u001b[0m_is_master_process\u001b[0m\u001b[0;34m(\u001b[0m\u001b[0;34m)\u001b[0m\u001b[0;34m)\u001b[0m\u001b[0;34m\u001b[0m\u001b[0;34m\u001b[0m\u001b[0m\n\u001b[1;32m    401\u001b[0m             \u001b[0;31m# only touch the buffer in the IO thread to avoid races\u001b[0m\u001b[0;34m\u001b[0m\u001b[0;34m\u001b[0m\u001b[0m\n\u001b[0;32m--> 402\u001b[0;31m             \u001b[0mself\u001b[0m\u001b[0;34m.\u001b[0m\u001b[0mpub_thread\u001b[0m\u001b[0;34m.\u001b[0m\u001b[0mschedule\u001b[0m\u001b[0;34m(\u001b[0m\u001b[0;32mlambda\u001b[0m \u001b[0;34m:\u001b[0m \u001b[0mself\u001b[0m\u001b[0;34m.\u001b[0m\u001b[0m_buffer\u001b[0m\u001b[0;34m.\u001b[0m\u001b[0mwrite\u001b[0m\u001b[0;34m(\u001b[0m\u001b[0mstring\u001b[0m\u001b[0;34m)\u001b[0m\u001b[0;34m)\u001b[0m\u001b[0;34m\u001b[0m\u001b[0;34m\u001b[0m\u001b[0m\n\u001b[0m\u001b[1;32m    403\u001b[0m             \u001b[0;32mif\u001b[0m \u001b[0mis_child\u001b[0m\u001b[0;34m:\u001b[0m\u001b[0;34m\u001b[0m\u001b[0;34m\u001b[0m\u001b[0m\n\u001b[1;32m    404\u001b[0m                 \u001b[0;31m# mp.Pool cannot be trusted to flush promptly (or ever),\u001b[0m\u001b[0;34m\u001b[0m\u001b[0;34m\u001b[0m\u001b[0m\n",
            "\u001b[0;32m/usr/local/lib/python3.10/dist-packages/ipykernel/iostream.py\u001b[0m in \u001b[0;36mschedule\u001b[0;34m(self, f)\u001b[0m\n\u001b[1;32m    201\u001b[0m             \u001b[0mself\u001b[0m\u001b[0;34m.\u001b[0m\u001b[0m_events\u001b[0m\u001b[0;34m.\u001b[0m\u001b[0mappend\u001b[0m\u001b[0;34m(\u001b[0m\u001b[0mf\u001b[0m\u001b[0;34m)\u001b[0m\u001b[0;34m\u001b[0m\u001b[0;34m\u001b[0m\u001b[0m\n\u001b[1;32m    202\u001b[0m             \u001b[0;31m# wake event thread (message content is ignored)\u001b[0m\u001b[0;34m\u001b[0m\u001b[0;34m\u001b[0m\u001b[0m\n\u001b[0;32m--> 203\u001b[0;31m             \u001b[0mself\u001b[0m\u001b[0;34m.\u001b[0m\u001b[0m_event_pipe\u001b[0m\u001b[0;34m.\u001b[0m\u001b[0msend\u001b[0m\u001b[0;34m(\u001b[0m\u001b[0;34mb''\u001b[0m\u001b[0;34m)\u001b[0m\u001b[0;34m\u001b[0m\u001b[0;34m\u001b[0m\u001b[0m\n\u001b[0m\u001b[1;32m    204\u001b[0m         \u001b[0;32melse\u001b[0m\u001b[0;34m:\u001b[0m\u001b[0;34m\u001b[0m\u001b[0;34m\u001b[0m\u001b[0m\n\u001b[1;32m    205\u001b[0m             \u001b[0mf\u001b[0m\u001b[0;34m(\u001b[0m\u001b[0;34m)\u001b[0m\u001b[0;34m\u001b[0m\u001b[0;34m\u001b[0m\u001b[0m\n",
            "\u001b[0;32m/usr/local/lib/python3.10/dist-packages/zmq/sugar/socket.py\u001b[0m in \u001b[0;36msend\u001b[0;34m(self, data, flags, copy, track, routing_id, group)\u001b[0m\n\u001b[1;32m    616\u001b[0m                 )\n\u001b[1;32m    617\u001b[0m             \u001b[0mdata\u001b[0m\u001b[0;34m.\u001b[0m\u001b[0mgroup\u001b[0m \u001b[0;34m=\u001b[0m \u001b[0mgroup\u001b[0m\u001b[0;34m\u001b[0m\u001b[0;34m\u001b[0m\u001b[0m\n\u001b[0;32m--> 618\u001b[0;31m         \u001b[0;32mreturn\u001b[0m \u001b[0msuper\u001b[0m\u001b[0;34m(\u001b[0m\u001b[0;34m)\u001b[0m\u001b[0;34m.\u001b[0m\u001b[0msend\u001b[0m\u001b[0;34m(\u001b[0m\u001b[0mdata\u001b[0m\u001b[0;34m,\u001b[0m \u001b[0mflags\u001b[0m\u001b[0;34m=\u001b[0m\u001b[0mflags\u001b[0m\u001b[0;34m,\u001b[0m \u001b[0mcopy\u001b[0m\u001b[0;34m=\u001b[0m\u001b[0mcopy\u001b[0m\u001b[0;34m,\u001b[0m \u001b[0mtrack\u001b[0m\u001b[0;34m=\u001b[0m\u001b[0mtrack\u001b[0m\u001b[0;34m)\u001b[0m\u001b[0;34m\u001b[0m\u001b[0;34m\u001b[0m\u001b[0m\n\u001b[0m\u001b[1;32m    619\u001b[0m \u001b[0;34m\u001b[0m\u001b[0m\n\u001b[1;32m    620\u001b[0m     def send_multipart(\n",
            "\u001b[0;32mzmq/backend/cython/socket.pyx\u001b[0m in \u001b[0;36mzmq.backend.cython.socket.Socket.send\u001b[0;34m()\u001b[0m\n",
            "\u001b[0;32mzmq/backend/cython/socket.pyx\u001b[0m in \u001b[0;36mzmq.backend.cython.socket.Socket.send\u001b[0;34m()\u001b[0m\n",
            "\u001b[0;32mzmq/backend/cython/socket.pyx\u001b[0m in \u001b[0;36mzmq.backend.cython.socket._send_copy\u001b[0;34m()\u001b[0m\n",
            "\u001b[0;32m/usr/local/lib/python3.10/dist-packages/zmq/backend/cython/checkrc.pxd\u001b[0m in \u001b[0;36mzmq.backend.cython.checkrc._check_rc\u001b[0;34m()\u001b[0m\n",
            "\u001b[0;31mKeyboardInterrupt\u001b[0m: "
          ]
        }
      ],
      "source": [
        "with strategy.scope():\n",
        "    model = ut.get_training_model()\n",
        "\n",
        "model.compile(\n",
        "    optimizer=\"adam\", loss=\"sparse_categorical_crossentropy\", metrics=[\"accuracy\"]\n",
        ")\n",
        "\n",
        "start = time.time()\n",
        "history = model.fit(train_ds,\n",
        "                   validation_data=test_ds,\n",
        "                   callbacks=train_callbacks,\n",
        "                   epochs=100)\n",
        "print(f\"Total training time: {(time.time() - start)/60.} minutes\")"
      ]
    },
    {
      "cell_type": "code",
      "execution_count": null,
      "metadata": {
        "id": "zZJaoiDaSo5f"
      },
      "outputs": [],
      "source": [
        "ut.plot_history(history)"
      ]
    }
  ],
  "metadata": {
    "accelerator": "GPU",
    "colab": {
      "provenance": [],
      "toc_visible": true,
      "authorship_tag": "ABX9TyNwJxI1XVdh1jg2rdmlfvJt",
      "include_colab_link": true
    },
    "kernelspec": {
      "display_name": "Python 3",
      "name": "python3"
    },
    "language_info": {
      "name": "python"
    }
  },
  "nbformat": 4,
  "nbformat_minor": 0
}